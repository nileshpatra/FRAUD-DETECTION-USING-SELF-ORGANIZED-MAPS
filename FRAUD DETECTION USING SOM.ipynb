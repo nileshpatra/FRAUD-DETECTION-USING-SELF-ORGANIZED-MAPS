{
 "cells": [
  {
   "cell_type": "code",
   "execution_count": 1,
   "metadata": {},
   "outputs": [],
   "source": [
    "import numpy as np\n",
    "import matplotlib.pyplot as plt\n",
    "import pandas as pd"
   ]
  },
  {
   "cell_type": "code",
   "execution_count": 2,
   "metadata": {},
   "outputs": [],
   "source": [
    "dataset = pd.read_csv('/home/nilesh/Desktop/MY FILES/DEEP LEARNING COURSE/5. Self_Organizing_Maps/Self_Organizing_Maps/Credit_Card_Applications.csv')"
   ]
  },
  {
   "cell_type": "code",
   "execution_count": 3,
   "metadata": {},
   "outputs": [],
   "source": [
    "x = dataset.iloc[:,:-1].values\n",
    "y = dataset.iloc[:,-1].values"
   ]
  },
  {
   "cell_type": "code",
   "execution_count": 5,
   "metadata": {},
   "outputs": [],
   "source": [
    "from sklearn.preprocessing import MinMaxScaler\n",
    "scl = MinMaxScaler(feature_range=(0,1))\n",
    "x = scl.fit_transform(x)"
   ]
  },
  {
   "cell_type": "code",
   "execution_count": 6,
   "metadata": {},
   "outputs": [],
   "source": [
    "from minisom import MiniSom"
   ]
  },
  {
   "cell_type": "code",
   "execution_count": 7,
   "metadata": {},
   "outputs": [],
   "source": [
    "som = MiniSom(x = 10 , y = 10 , input_len = 15)"
   ]
  },
  {
   "cell_type": "code",
   "execution_count": 8,
   "metadata": {},
   "outputs": [],
   "source": [
    "som.random_weights_init(x)"
   ]
  },
  {
   "cell_type": "code",
   "execution_count": 9,
   "metadata": {},
   "outputs": [],
   "source": [
    "som.train_random(x , num_iteration = 100)"
   ]
  },
  {
   "cell_type": "code",
   "execution_count": 14,
   "metadata": {},
   "outputs": [
    {
     "data": {
      "image/png": "[encoded data removed]",
      "text/plain": [
       "<Figure size 432x288 with 2 Axes>"
      ]
     },
     "metadata": {
      "needs_background": "light"
     },
     "output_type": "display_data"
    }
   ],
   "source": [
    "from pylab import bone , pcolor , colorbar, plot , show\n",
    "#initializes the window containing the map\n",
    "bone()\n",
    "pcolor(som.distance_map().T)\n",
    "colorbar()\n",
    "markers = ['o' , 's']\n",
    "colors = ['r' , 'g']\n",
    "for i,j in enumerate(x):\n",
    "    winning_node = som.winner(j)\n",
    "    plot(winning_node[0]+0.5,\n",
    "         winning_node[1]+0.5,\n",
    "         markers[y[i]],\n",
    "         markeredgecolor = colors[y[i]],\n",
    "         markerfacecolor = 'None',\n",
    "         markersize = 10 , \n",
    "         markeredgewidth = 2\n",
    "        )\n",
    "show()"
   ]
  },
  {
   "cell_type": "code",
   "execution_count": 15,
   "metadata": {},
   "outputs": [],
   "source": [
    "mappings = som.win_map(x)"
   ]
  },
  {
   "cell_type": "code",
   "execution_count": 19,
   "metadata": {},
   "outputs": [
    {
     "name": "stdout",
     "output_type": "stream",
     "text": [
      "dict_keys([(3, 2), (0, 0), (2, 0), (4, 6), (8, 0), (9, 1), (6, 1), (4, 7), (7, 7), (8, 3), (5, 3), (6, 0), (9, 7), (4, 8), (0, 9), (0, 3), (8, 4), (8, 6), (1, 1), (5, 9), (9, 3), (3, 4), (0, 5), (3, 9), (9, 4), (4, 2), (1, 2), (4, 3), (6, 2), (4, 1), (4, 5), (7, 5), (8, 1), (2, 5), (9, 5), (8, 2), (4, 0), (2, 8), (3, 7), (9, 9), (9, 8), (7, 6), (1, 9), (9, 6), (3, 6), (1, 3), (8, 7), (4, 9), (3, 8), (3, 1), (0, 6), (3, 5), (6, 5), (2, 1), (0, 2), (5, 0), (8, 9), (7, 3), (3, 0), (0, 8), (6, 8)])\n"
     ]
    }
   ],
   "source": [
    "print(mappings.keys())"
   ]
  },
  {
   "cell_type": "code",
   "execution_count": 23,
   "metadata": {},
   "outputs": [
    {
     "data": {
      "text/plain": [
       "True"
      ]
     },
     "execution_count": 23,
     "metadata": {},
     "output_type": "execute_result"
    }
   ],
   "source": [
    "(8,1) in mappings\n",
    "(6,8) in mappings"
   ]
  },
  {
   "cell_type": "code",
   "execution_count": 25,
   "metadata": {},
   "outputs": [
    {
     "data": {
      "text/plain": [
       "[array([0.69973451, 1.        , 0.14406015, 0.41517857, 0.        ,\n",
       "        0.61538462, 0.375     , 0.02929825, 1.        , 0.        ,\n",
       "        0.        , 1.        , 0.5       , 0.08      , 0.003     ]),\n",
       " array([0.60290155, 1.        , 0.30827068, 0.10714286, 0.5       ,\n",
       "        0.92307692, 0.875     , 0.26017544, 1.        , 0.        ,\n",
       "        0.        , 1.        , 0.5       , 0.        , 0.        ]),\n",
       " array([6.99850638e-01, 0.00000000e+00, 5.30075188e-01, 5.35714286e-02,\n",
       "        5.00000000e-01, 3.07692308e-01, 2.50000000e-01, 0.00000000e+00,\n",
       "        1.00000000e+00, 0.00000000e+00, 0.00000000e+00, 1.00000000e+00,\n",
       "        5.00000000e-01, 5.00000000e-02, 2.70000000e-04]),\n",
       " array([0.81139155, 0.        , 0.41473684, 0.03571429, 0.5       ,\n",
       "        0.15384615, 0.5       , 0.07894737, 1.        , 0.        ,\n",
       "        0.        , 1.        , 0.5       , 0.        , 0.003     ]),\n",
       " array([0.73206556, 0.        , 0.36842105, 0.21428571, 0.5       ,\n",
       "        0.23076923, 0.375     , 0.03508772, 1.        , 0.        ,\n",
       "        0.        , 1.        , 0.5       , 0.        , 0.        ]),\n",
       " array([0.53489983, 1.        , 0.16045113, 0.44053571, 0.5       ,\n",
       "        0.76923077, 0.875     , 0.05561404, 1.        , 0.        ,\n",
       "        0.        , 1.        , 0.5       , 0.06      , 0.        ])]"
      ]
     },
     "execution_count": 25,
     "metadata": {},
     "output_type": "execute_result"
    }
   ],
   "source": [
    "mappings[(3,8)]"
   ]
  },
  {
   "cell_type": "code",
   "execution_count": 22,
   "metadata": {},
   "outputs": [
    {
     "name": "stdout",
     "output_type": "stream",
     "text": [
      "[array([0.85004144, 1.        , 0.42481203, 0.34964286, 0.5       ,\n",
      "       1.        , 0.875     , 0.27929825, 1.        , 1.        ,\n",
      "       0.11940299, 0.        , 0.5       , 0.        , 0.        ]), array([0.52695522, 1.        , 0.41233083, 0.14428571, 0.5       ,\n",
      "       0.92307692, 0.875     , 0.24561404, 1.        , 1.        ,\n",
      "       0.11940299, 0.        , 0.5       , 0.16      , 0.        ]), array([0.98109951, 1.        , 0.36721805, 0.36160714, 0.5       ,\n",
      "       1.        , 0.375     , 0.0877193 , 1.        , 1.        ,\n",
      "       0.08955224, 0.        , 0.5       , 0.26      , 0.00196   ]), array([0.42277429, 1.        , 0.61774436, 0.55357143, 0.5       ,\n",
      "       0.69230769, 1.        , 0.        , 1.        , 1.        ,\n",
      "       0.29850746, 0.        , 0.5       , 0.076     , 0.0013    ]), array([0.52909354, 1.        , 0.65669173, 0.30357143, 0.5       ,\n",
      "       0.69230769, 0.875     , 0.24561404, 1.        , 1.        ,\n",
      "       0.04477612, 0.        , 0.5       , 0.        , 0.        ]), array([0.65017679, 1.        , 0.27323308, 0.15928571, 0.5       ,\n",
      "       0.92307692, 0.875     , 0.21192982, 1.        , 1.        ,\n",
      "       0.04477612, 0.        , 0.5       , 0.1555    , 0.003     ]), array([0.81182001, 1.        , 0.42360902, 0.015     , 0.5       ,\n",
      "       0.53846154, 0.875     , 0.00736842, 1.        , 1.        ,\n",
      "       0.08955224, 0.        , 0.5       , 0.11      , 0.00948   ]), array([0.69932607, 1.        , 0.43984962, 0.01035714, 0.        ,\n",
      "       0.92307692, 0.875     , 0.06140351, 1.        , 1.        ,\n",
      "       0.11940299, 0.        , 0.5       , 0.05      , 0.00375   ])]\n",
      "\n",
      "[]\n"
     ]
    }
   ],
   "source": [
    "print(mappings[(8,1)])\n",
    "print()\n",
    "print(mappings[(6,8)])"
   ]
  },
  {
   "cell_type": "code",
   "execution_count": 27,
   "metadata": {},
   "outputs": [],
   "source": [
    "frauds = np.concatenate((mappings[(8,1)], mappings[(3,8)]), axis = 0)\n",
    "frauds = scl.inverse_transform(frauds)"
   ]
  },
  {
   "cell_type": "code",
   "execution_count": 28,
   "metadata": {
    "scrolled": true
   },
   "outputs": [
    {
     "data": {
      "text/plain": [
       "array([[1.5777994e+07, 1.0000000e+00, 4.2000000e+01, 9.7900000e+00,\n",
       "        2.0000000e+00, 1.4000000e+01, 8.0000000e+00, 7.9600000e+00,\n",
       "        1.0000000e+00, 1.0000000e+00, 8.0000000e+00, 0.0000000e+00,\n",
       "        2.0000000e+00, 0.0000000e+00, 1.0000000e+00],\n",
       "       [1.5697310e+07, 1.0000000e+00, 4.1170000e+01, 4.0400000e+00,\n",
       "        2.0000000e+00, 1.3000000e+01, 8.0000000e+00, 7.0000000e+00,\n",
       "        1.0000000e+00, 1.0000000e+00, 8.0000000e+00, 0.0000000e+00,\n",
       "        2.0000000e+00, 3.2000000e+02, 1.0000000e+00],\n",
       "       [1.5810723e+07, 1.0000000e+00, 3.8170000e+01, 1.0125000e+01,\n",
       "        2.0000000e+00, 1.4000000e+01, 4.0000000e+00, 2.5000000e+00,\n",
       "        1.0000000e+00, 1.0000000e+00, 6.0000000e+00, 0.0000000e+00,\n",
       "        2.0000000e+00, 5.2000000e+02, 1.9700000e+02],\n",
       "       [1.5671293e+07, 1.0000000e+00, 5.4830000e+01, 1.5500000e+01,\n",
       "        2.0000000e+00, 1.0000000e+01, 9.0000000e+00, 0.0000000e+00,\n",
       "        1.0000000e+00, 1.0000000e+00, 2.0000000e+01, 0.0000000e+00,\n",
       "        2.0000000e+00, 1.5200000e+02, 1.3100000e+02],\n",
       "       [1.5697844e+07, 1.0000000e+00, 5.7420000e+01, 8.5000000e+00,\n",
       "        2.0000000e+00, 1.0000000e+01, 8.0000000e+00, 7.0000000e+00,\n",
       "        1.0000000e+00, 1.0000000e+00, 3.0000000e+00, 0.0000000e+00,\n",
       "        2.0000000e+00, 0.0000000e+00, 1.0000000e+00],\n",
       "       [1.5728082e+07, 1.0000000e+00, 3.1920000e+01, 4.4600000e+00,\n",
       "        2.0000000e+00, 1.3000000e+01, 8.0000000e+00, 6.0400000e+00,\n",
       "        1.0000000e+00, 1.0000000e+00, 3.0000000e+00, 0.0000000e+00,\n",
       "        2.0000000e+00, 3.1100000e+02, 3.0100000e+02],\n",
       "       [1.5768449e+07, 1.0000000e+00, 4.1920000e+01, 4.2000000e-01,\n",
       "        2.0000000e+00, 8.0000000e+00, 8.0000000e+00, 2.1000000e-01,\n",
       "        1.0000000e+00, 1.0000000e+00, 6.0000000e+00, 0.0000000e+00,\n",
       "        2.0000000e+00, 2.2000000e+02, 9.4900000e+02],\n",
       "       [1.5740356e+07, 1.0000000e+00, 4.3000000e+01, 2.9000000e-01,\n",
       "        1.0000000e+00, 1.3000000e+01, 8.0000000e+00, 1.7500000e+00,\n",
       "        1.0000000e+00, 1.0000000e+00, 8.0000000e+00, 0.0000000e+00,\n",
       "        2.0000000e+00, 1.0000000e+02, 3.7600000e+02],\n",
       "       [1.5740458e+07, 1.0000000e+00, 2.3330000e+01, 1.1625000e+01,\n",
       "        1.0000000e+00, 9.0000000e+00, 4.0000000e+00, 8.3500000e-01,\n",
       "        1.0000000e+00, 0.0000000e+00, 0.0000000e+00, 1.0000000e+00,\n",
       "        2.0000000e+00, 1.6000000e+02, 3.0100000e+02],\n",
       "       [1.5716276e+07, 1.0000000e+00, 3.4250000e+01, 3.0000000e+00,\n",
       "        2.0000000e+00, 1.3000000e+01, 8.0000000e+00, 7.4150000e+00,\n",
       "        1.0000000e+00, 0.0000000e+00, 0.0000000e+00, 1.0000000e+00,\n",
       "        2.0000000e+00, 0.0000000e+00, 1.0000000e+00],\n",
       "       [1.5740487e+07, 0.0000000e+00, 4.9000000e+01, 1.5000000e+00,\n",
       "        2.0000000e+00, 5.0000000e+00, 3.0000000e+00, 0.0000000e+00,\n",
       "        1.0000000e+00, 0.0000000e+00, 0.0000000e+00, 1.0000000e+00,\n",
       "        2.0000000e+00, 1.0000000e+02, 2.8000000e+01],\n",
       "       [1.5768342e+07, 0.0000000e+00, 4.1330000e+01, 1.0000000e+00,\n",
       "        2.0000000e+00, 3.0000000e+00, 5.0000000e+00, 2.2500000e+00,\n",
       "        1.0000000e+00, 0.0000000e+00, 0.0000000e+00, 1.0000000e+00,\n",
       "        2.0000000e+00, 0.0000000e+00, 3.0100000e+02],\n",
       "       [1.5748532e+07, 0.0000000e+00, 3.8250000e+01, 6.0000000e+00,\n",
       "        2.0000000e+00, 4.0000000e+00, 4.0000000e+00, 1.0000000e+00,\n",
       "        1.0000000e+00, 0.0000000e+00, 0.0000000e+00, 1.0000000e+00,\n",
       "        2.0000000e+00, 0.0000000e+00, 1.0000000e+00],\n",
       "       [1.5699294e+07, 1.0000000e+00, 2.4420000e+01, 1.2335000e+01,\n",
       "        2.0000000e+00, 1.1000000e+01, 8.0000000e+00, 1.5850000e+00,\n",
       "        1.0000000e+00, 0.0000000e+00, 0.0000000e+00, 1.0000000e+00,\n",
       "        2.0000000e+00, 1.2000000e+02, 1.0000000e+00]])"
      ]
     },
     "execution_count": 28,
     "metadata": {},
     "output_type": "execute_result"
    }
   ],
   "source": [
    "frauds"
   ]
  },
  {
   "cell_type": "code",
   "execution_count": null,
   "metadata": {},
   "outputs": [],
   "source": []
  }
 ],
 "metadata": {
  "kernelspec": {
   "display_name": "Python 3",
   "language": "python",
   "name": "python3"
  },
  "language_info": {
   "codemirror_mode": {
    "name": "ipython",
    "version": 3
   },
   "file_extension": ".py",
   "mimetype": "text/x-python",
   "name": "python",
   "nbconvert_exporter": "python",
   "pygments_lexer": "ipython3",
   "version": "3.6.6"
  }
 },
 "nbformat": 4,
 "nbformat_minor": 2
}
